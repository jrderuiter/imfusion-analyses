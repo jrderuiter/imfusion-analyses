{
 "cells": [
  {
   "cell_type": "markdown",
   "metadata": {},
   "source": [
    "# Supplemental Tables\n",
    "\n",
    "This Jupyter notebook reproduces a number of Supplemental Tables that are not included in any of the other notebooks. "
   ]
  },
  {
   "cell_type": "code",
   "execution_count": 19,
   "metadata": {
    "collapsed": true
   },
   "outputs": [],
   "source": [
    "%reload_ext autoreload\n",
    "%autoreload 2\n",
    "\n",
    "%matplotlib inline\n",
    "\n",
    "import sys\n",
    "sys.path.append('../src')\n",
    "\n",
    "from io import StringIO\n",
    "\n",
    "import numpy as np\n",
    "import pandas as pd"
   ]
  },
  {
   "cell_type": "markdown",
   "metadata": {},
   "source": [
    "## Supplementary Table S2 - ILC insertions\n",
    "\n",
    "Overview of all insertions identified by IM-Fusion in the ILC dataset."
   ]
  },
  {
   "cell_type": "code",
   "execution_count": 36,
   "metadata": {
    "collapsed": false
   },
   "outputs": [],
   "source": [
    "insertion_column_map = {\n",
    "    'transposon_anchor': 'feature_anchor',\n",
    "    'id': 'Iinsertion_id', \n",
    "    'seqname': 'chromosome', \n",
    "    'orientation': 'gene_orientation'\n",
    "}\n",
    "\n",
    "insertions_sb = (\n",
    "    pd.read_csv('../data/processed/sb/star/insertions.txt', sep='\\t')\n",
    "      .rename(columns=column_map)\n",
    "      .rename(columns=lambda c: c.replace('_', ' ').capitalize()))\n",
    "insertions_sb.to_excel('../reports/supplemental/tables/table_s2_insertions_sb.xlsx', index=False)"
   ]
  },
  {
   "cell_type": "markdown",
   "metadata": {},
   "source": [
    "## Supplementary Table S3 - ILC CTGs\n",
    "\n",
    "Overview of the CTGs identified by IM-Fusion in the ILC dataset."
   ]
  },
  {
   "cell_type": "code",
   "execution_count": 2,
   "metadata": {
    "collapsed": false
   },
   "outputs": [
    {
     "data": {
      "text/html": [
       "<div>\n",
       "<table border=\"1\" class=\"dataframe\">\n",
       "  <thead>\n",
       "    <tr style=\"text-align: right;\">\n",
       "      <th></th>\n",
       "      <th>Gene</th>\n",
       "      <th>CTG p-value</th>\n",
       "      <th>CTG q-value</th>\n",
       "      <th>Num. samples</th>\n",
       "      <th>DE p-value</th>\n",
       "      <th>DE direction</th>\n",
       "    </tr>\n",
       "  </thead>\n",
       "  <tbody>\n",
       "    <tr>\n",
       "      <th>0</th>\n",
       "      <td>Ppp1r12a</td>\n",
       "      <td>2.136308e-99</td>\n",
       "      <td>7.370264e-97</td>\n",
       "      <td>41</td>\n",
       "      <td>4.928289e-17</td>\n",
       "      <td>down</td>\n",
       "    </tr>\n",
       "    <tr>\n",
       "      <th>1</th>\n",
       "      <td>Trps1</td>\n",
       "      <td>3.813430e-95</td>\n",
       "      <td>1.315633e-92</td>\n",
       "      <td>44</td>\n",
       "      <td>5.408386e-16</td>\n",
       "      <td>down</td>\n",
       "    </tr>\n",
       "    <tr>\n",
       "      <th>2</th>\n",
       "      <td>Fgfr2</td>\n",
       "      <td>5.902850e-70</td>\n",
       "      <td>2.036483e-67</td>\n",
       "      <td>52</td>\n",
       "      <td>1.051432e-01</td>\n",
       "      <td>up</td>\n",
       "    </tr>\n",
       "    <tr>\n",
       "      <th>3</th>\n",
       "      <td>Myh9</td>\n",
       "      <td>9.094464e-70</td>\n",
       "      <td>3.137590e-67</td>\n",
       "      <td>27</td>\n",
       "      <td>1.927143e-08</td>\n",
       "      <td>down</td>\n",
       "    </tr>\n",
       "    <tr>\n",
       "      <th>4</th>\n",
       "      <td>Trp53bp2</td>\n",
       "      <td>2.548673e-27</td>\n",
       "      <td>8.792922e-25</td>\n",
       "      <td>12</td>\n",
       "      <td>4.034261e-07</td>\n",
       "      <td>up</td>\n",
       "    </tr>\n",
       "  </tbody>\n",
       "</table>\n",
       "</div>"
      ],
      "text/plain": [
       "       Gene   CTG p-value   CTG q-value  Num. samples    DE p-value  \\\n",
       "0  Ppp1r12a  2.136308e-99  7.370264e-97            41  4.928289e-17   \n",
       "1     Trps1  3.813430e-95  1.315633e-92            44  5.408386e-16   \n",
       "2     Fgfr2  5.902850e-70  2.036483e-67            52  1.051432e-01   \n",
       "3      Myh9  9.094464e-70  3.137590e-67            27  1.927143e-08   \n",
       "4  Trp53bp2  2.548673e-27  8.792922e-25            12  4.034261e-07   \n",
       "\n",
       "  DE direction  \n",
       "0         down  \n",
       "1         down  \n",
       "2           up  \n",
       "3         down  \n",
       "4           up  "
      ]
     },
     "execution_count": 2,
     "metadata": {},
     "output_type": "execute_result"
    }
   ],
   "source": [
    "ctgs = pd.read_csv('../data/processed/sb/star/ctgs.txt', sep='\\t')\n",
    "\n",
    "ctg_overview = (ctgs\n",
    " .assign(de_direction=lambda df: df['de_direction'].map({-1: 'down', 1: 'up'}))\n",
    " .drop(['de_test', 'gene_id'], axis=1)\n",
    " .rename(columns={\n",
    "     'gene_name': 'Gene',\n",
    "     'p_value': 'CTG p-value',\n",
    "     'q_value': 'CTG q-value',\n",
    "     'n_samples': 'Num. samples',\n",
    "     'de_pvalue': 'DE p-value',\n",
    "     'de_direction': 'DE direction'\n",
    " }))\n",
    "\n",
    "ctg_overview.head()"
   ]
  },
  {
   "cell_type": "markdown",
   "metadata": {},
   "source": [
    "## Supplementary Table S5 - B-ALL insertions\n",
    "\n",
    "Overview of all insertions identified by IM-Fusion in the B-ALL dataset."
   ]
  },
  {
   "cell_type": "code",
   "execution_count": 39,
   "metadata": {
    "collapsed": true
   },
   "outputs": [],
   "source": [
    "insertions_sanger = (\n",
    "    pd.read_csv('../data/processed/sanger/star/insertions.txt', sep='\\t')\n",
    "      .rename(columns=column_map)\n",
    "     .rename(columns=lambda c: c.replace('_', ' ').capitalize()))\n",
    "insertions_sanger.to_excel('../reports/supplemental/tables/table_s5_insertions_sanger.xlsx', index=False)"
   ]
  }
 ],
 "metadata": {
  "kernelspec": {
   "display_name": "Python 3",
   "language": "python",
   "name": "python3"
  },
  "language_info": {
   "codemirror_mode": {
    "name": "ipython",
    "version": 3
   },
   "file_extension": ".py",
   "mimetype": "text/x-python",
   "name": "python",
   "nbconvert_exporter": "python",
   "pygments_lexer": "ipython3",
   "version": "3.5.2"
  }
 },
 "nbformat": 4,
 "nbformat_minor": 2
}
