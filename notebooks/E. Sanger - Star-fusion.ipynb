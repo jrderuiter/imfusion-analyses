{
 "cells": [
  {
   "cell_type": "code",
   "execution_count": 74,
   "metadata": {
    "collapsed": true
   },
   "outputs": [],
   "source": [
    "%matplotlib inline\n",
    "\n",
    "import pandas as pd\n",
    "import seaborn as sns\n",
    "\n",
    "sns.set_style('white')"
   ]
  },
  {
   "cell_type": "code",
   "execution_count": 51,
   "metadata": {
    "collapsed": false
   },
   "outputs": [
    {
     "data": {
      "text/html": [
       "<div>\n",
       "<table border=\"1\" class=\"dataframe\">\n",
       "  <thead>\n",
       "    <tr style=\"text-align: right;\">\n",
       "      <th></th>\n",
       "      <th>fusion_name</th>\n",
       "      <th>support_junction</th>\n",
       "      <th>support_spanning</th>\n",
       "      <th>splice_type</th>\n",
       "      <th>left_gene</th>\n",
       "      <th>left_breakpoint</th>\n",
       "      <th>right_gene</th>\n",
       "      <th>right_breakpoint</th>\n",
       "      <th>junction_reads</th>\n",
       "      <th>spanning_reads</th>\n",
       "      <th>sample</th>\n",
       "    </tr>\n",
       "  </thead>\n",
       "  <tbody>\n",
       "    <tr>\n",
       "      <th>0</th>\n",
       "      <td>Cblb--En2</td>\n",
       "      <td>224</td>\n",
       "      <td>0</td>\n",
       "      <td>ONLY_REF_SPLICE</td>\n",
       "      <td>Cblb^ENSMUSG00000022637</td>\n",
       "      <td>16:52142898:+</td>\n",
       "      <td>En2^ENSMUSG00000039095</td>\n",
       "      <td>5:28170119:+</td>\n",
       "      <td>ERR578387.18555652,ERR578345.14650580,ERR57838...</td>\n",
       "      <td>.</td>\n",
       "      <td>TAPJ84_3c</td>\n",
       "    </tr>\n",
       "    <tr>\n",
       "      <th>1</th>\n",
       "      <td>Nktr--Gm525</td>\n",
       "      <td>114</td>\n",
       "      <td>0</td>\n",
       "      <td>INCL_NON_REF_SPLICE</td>\n",
       "      <td>Nktr^ENSMUSG00000032525</td>\n",
       "      <td>9:121729196:+</td>\n",
       "      <td>Gm525^ENSMUSG00000072553</td>\n",
       "      <td>11:89088699:+</td>\n",
       "      <td>ERR578373.2356452,ERR578359.17343254,ERR578373...</td>\n",
       "      <td>.</td>\n",
       "      <td>TAPJ84_3c</td>\n",
       "    </tr>\n",
       "    <tr>\n",
       "      <th>2</th>\n",
       "      <td>Pot1a--En2</td>\n",
       "      <td>56</td>\n",
       "      <td>0</td>\n",
       "      <td>ONLY_REF_SPLICE</td>\n",
       "      <td>Pot1a^ENSMUSG00000029676</td>\n",
       "      <td>6:25758818:-</td>\n",
       "      <td>En2^ENSMUSG00000039095</td>\n",
       "      <td>5:28170119:+</td>\n",
       "      <td>ERR578331.12746934,ERR578359.16365770,ERR57834...</td>\n",
       "      <td>.</td>\n",
       "      <td>TAPJ84_3c</td>\n",
       "    </tr>\n",
       "    <tr>\n",
       "      <th>3</th>\n",
       "      <td>Cox7a2l--Man2c1os</td>\n",
       "      <td>31</td>\n",
       "      <td>0</td>\n",
       "      <td>INCL_NON_REF_SPLICE</td>\n",
       "      <td>Cox7a2l^ENSMUSG00000024248</td>\n",
       "      <td>17:83502260:-</td>\n",
       "      <td>Man2c1os^ENSMUSG00000086728</td>\n",
       "      <td>9:57100303:-</td>\n",
       "      <td>ERR578331.4921262,ERR578345.5856532,ERR578373....</td>\n",
       "      <td>.</td>\n",
       "      <td>TAPJ84_3c</td>\n",
       "    </tr>\n",
       "    <tr>\n",
       "      <th>4</th>\n",
       "      <td>Mthfsd--1700020I14Rik</td>\n",
       "      <td>20</td>\n",
       "      <td>0</td>\n",
       "      <td>INCL_NON_REF_SPLICE</td>\n",
       "      <td>Mthfsd^ENSMUSG00000031816</td>\n",
       "      <td>8:121097826:-</td>\n",
       "      <td>1700020I14Rik^ENSMUSG00000085438</td>\n",
       "      <td>2:119605895:+</td>\n",
       "      <td>ERR578373.7185051,ERR578359.7207290,ERR578345....</td>\n",
       "      <td>.</td>\n",
       "      <td>TAPJ84_3c</td>\n",
       "    </tr>\n",
       "  </tbody>\n",
       "</table>\n",
       "</div>"
      ],
      "text/plain": [
       "             fusion_name  support_junction  support_spanning  \\\n",
       "0              Cblb--En2               224                 0   \n",
       "1            Nktr--Gm525               114                 0   \n",
       "2             Pot1a--En2                56                 0   \n",
       "3      Cox7a2l--Man2c1os                31                 0   \n",
       "4  Mthfsd--1700020I14Rik                20                 0   \n",
       "\n",
       "           splice_type                   left_gene left_breakpoint  \\\n",
       "0      ONLY_REF_SPLICE     Cblb^ENSMUSG00000022637   16:52142898:+   \n",
       "1  INCL_NON_REF_SPLICE     Nktr^ENSMUSG00000032525   9:121729196:+   \n",
       "2      ONLY_REF_SPLICE    Pot1a^ENSMUSG00000029676    6:25758818:-   \n",
       "3  INCL_NON_REF_SPLICE  Cox7a2l^ENSMUSG00000024248   17:83502260:-   \n",
       "4  INCL_NON_REF_SPLICE   Mthfsd^ENSMUSG00000031816   8:121097826:-   \n",
       "\n",
       "                         right_gene right_breakpoint  \\\n",
       "0            En2^ENSMUSG00000039095     5:28170119:+   \n",
       "1          Gm525^ENSMUSG00000072553    11:89088699:+   \n",
       "2            En2^ENSMUSG00000039095     5:28170119:+   \n",
       "3       Man2c1os^ENSMUSG00000086728     9:57100303:-   \n",
       "4  1700020I14Rik^ENSMUSG00000085438    2:119605895:+   \n",
       "\n",
       "                                      junction_reads spanning_reads     sample  \n",
       "0  ERR578387.18555652,ERR578345.14650580,ERR57838...              .  TAPJ84_3c  \n",
       "1  ERR578373.2356452,ERR578359.17343254,ERR578373...              .  TAPJ84_3c  \n",
       "2  ERR578331.12746934,ERR578359.16365770,ERR57834...              .  TAPJ84_3c  \n",
       "3  ERR578331.4921262,ERR578345.5856532,ERR578373....              .  TAPJ84_3c  \n",
       "4  ERR578373.7185051,ERR578359.7207290,ERR578345....              .  TAPJ84_3c  "
      ]
     },
     "execution_count": 51,
     "metadata": {},
     "output_type": "execute_result"
    }
   ],
   "source": [
    "from pathlib import Path\n",
    "\n",
    "def read_fusions(file_path):\n",
    "    \"\"\"Reads fusions from STAR-Fusion final candidate file.\"\"\"\n",
    "    \n",
    "    col_names = ['fusion_name', 'support_junction', \n",
    "                 'support_spanning', 'splice_type',\n",
    "                 'left_gene', 'left_breakpoint', 'right_gene', \n",
    "                 'right_breakpoint', 'junction_reads',\n",
    "                 'spanning_reads', 'extra']\n",
    "    \n",
    "    return (pd.read_csv(str(file_path), sep='\\t', header=None,\n",
    "                        skiprows=1, index_col=None, names=col_names)\n",
    "              .drop('extra', axis=1))\n",
    "\n",
    "# Read fusions for samples.\n",
    "base_dir = Path('../data/interim/sanger/star-fusion/fusions')\n",
    "sample_dirs = [x for x in base_dir.iterdir() if x.is_dir()]\n",
    "\n",
    "fusions = {sample_dir.name: \n",
    "           read_fusions(sample_dir / 'star-fusion.fusion_candidates.final')\n",
    "           for sample_dir in sample_dirs}\n",
    "\n",
    "# Merge into single frame.\n",
    "merged = pd.concat((df.assign(sample=sample) \n",
    "                    for sample, df in fusions.items()),\n",
    "                   axis=0, ignore_index=True)\n",
    "\n",
    "merged.head()"
   ]
  },
  {
   "cell_type": "code",
   "execution_count": 76,
   "metadata": {
    "collapsed": false
   },
   "outputs": [
    {
     "data": {
      "text/plain": [
       "<matplotlib.text.Text at 0x7f05f8126b00>"
      ]
     },
     "execution_count": 76,
     "metadata": {},
     "output_type": "execute_result"
    },
    {
     "data": {
      "image/png": "[encoded data removed]",
      "text/plain": [
       "<matplotlib.figure.Figure at 0x7f06005a4438>"
      ]
     },
     "metadata": {},
     "output_type": "display_data"
    }
   ],
   "source": [
    "ax = merged.groupby('sample').size().hist()\n",
    "ax.set_title('Number of fusions per sample');"
   ]
  },
  {
   "cell_type": "code",
   "execution_count": 55,
   "metadata": {
    "collapsed": false
   },
   "outputs": [
    {
     "data": {
      "text/plain": [
       "fusion_name\n",
       "Haus8--Gstz1             19\n",
       "Etv6--Runx1              16\n",
       "Zbtb20--Ablim1           15\n",
       "Zfp106--Ifnar1           14\n",
       "Rrm2--Rragd              14\n",
       "Mthfsd--1700020I14Rik    14\n",
       "Cox7a2l--Man2c1os        14\n",
       "Dnajc3--Tns1             13\n",
       "Rbm3--Figf               12\n",
       "mt-Ti--mt-Nd1            11\n",
       "Inpp1--Hif1an            10\n",
       "Gm11020--Sirpa           10\n",
       "Tlx1--Ubald2             10\n",
       "Nktr--Gm525              10\n",
       "Car2--Uxs1                9\n",
       "Hexdc--Khdrbs1            9\n",
       "A430104N18Rik--Mcm7       8\n",
       "Pkig--Amfr                8\n",
       "Tubb5--Tmtc2              8\n",
       "Ube2e2--Ubald2            7\n",
       "Name: sample, dtype: int64"
      ]
     },
     "execution_count": 55,
     "metadata": {},
     "output_type": "execute_result"
    }
   ],
   "source": [
    "(merged.groupby('fusion_name')\n",
    "       ['sample'].nunique()\n",
    "       .sort_values(ascending=False)).head(n=20)"
   ]
  },
  {
   "cell_type": "code",
   "execution_count": 61,
   "metadata": {
    "collapsed": false
   },
   "outputs": [
    {
     "data": {
      "text/plain": [
       "fusion_name\n",
       "Etv6--Runx1                     16\n",
       "Hexdc--Khdrbs1                   9\n",
       "A430104N18Rik--Mcm7              8\n",
       "Dnmt1--Dyx1c1                    5\n",
       "Mcm9--Asf1a                      5\n",
       "RP23-32C18.5--Ms4a4d             4\n",
       "Ighv12-3--Ighm                   4\n",
       "Hbb-bs--Hba-a1                   3\n",
       "Rabgap1l--En2                    3\n",
       "Nfe2l2--Hnrnpa3                  3\n",
       "Ighv2-9--Ighg1                   3\n",
       "Ralyl--Ralyl                     3\n",
       "Hba-a1--Hbb-bt                   3\n",
       "Diap3--Tdrd3                     3\n",
       "A430104N18Rik--2010111I01Rik     3\n",
       "Tlr7--Prps2                      2\n",
       "Ptprc--En2                       2\n",
       "Ighv2-2--Ighg3                   2\n",
       "Snca--Bpgm                       2\n",
       "Fubp1--Ivns1abp                  2\n",
       "Name: sample, dtype: int64"
      ]
     },
     "execution_count": 61,
     "metadata": {},
     "output_type": "execute_result"
    }
   ],
   "source": [
    "merged_ref = merged.query('splice_type == \"ONLY_REF_SPLICE\"')\n",
    "\n",
    "(merged_ref.groupby('fusion_name')\n",
    "           ['sample'].nunique()\n",
    "           .sort_values(ascending=False)).head(n=20)"
   ]
  },
  {
   "cell_type": "code",
   "execution_count": 65,
   "metadata": {
    "collapsed": false
   },
   "outputs": [
    {
     "data": {
      "text/plain": [
       "Ptprc--En2       4\n",
       "Rabgap1l--En2    3\n",
       "Suco--En2        1\n",
       "Cblb--En2        1\n",
       "Pot1a--En2       1\n",
       "Pax5--En2        1\n",
       "Fam120c--En2     1\n",
       "Fam105a--En2     1\n",
       "Uck2--En2        1\n",
       "Nras--En2        1\n",
       "Name: fusion_name, dtype: int64"
      ]
     },
     "execution_count": 65,
     "metadata": {},
     "output_type": "execute_result"
    }
   ],
   "source": [
    "mask = merged_ref['fusion_name'].str.contains('En2')\n",
    "merged_ref.loc[mask, 'fusion_name'].value_counts()"
   ]
  }
 ],
 "metadata": {
  "kernelspec": {
   "display_name": "Python 3",
   "language": "python",
   "name": "python3"
  },
  "language_info": {
   "codemirror_mode": {
    "name": "ipython",
    "version": 3
   },
   "file_extension": ".py",
   "mimetype": "text/x-python",
   "name": "python",
   "nbconvert_exporter": "python",
   "pygments_lexer": "ipython3",
   "version": "3.5.2"
  }
 },
 "nbformat": 4,
 "nbformat_minor": 2
}
