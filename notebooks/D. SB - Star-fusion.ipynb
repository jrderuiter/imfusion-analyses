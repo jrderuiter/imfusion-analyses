{
 "cells": [
  {
   "cell_type": "code",
   "execution_count": 18,
   "metadata": {
    "collapsed": true
   },
   "outputs": [],
   "source": [
    "%matplotlib inline\n",
    "\n",
    "from matplotlib import pyplot as plt\n",
    "import pandas as pd\n",
    "import seaborn as sns\n",
    "\n",
    "sns.set_style('white')"
   ]
  },
  {
   "cell_type": "code",
   "execution_count": 16,
   "metadata": {
    "collapsed": false
   },
   "outputs": [
    {
     "data": {
      "text/html": [
       "<div>\n",
       "<table border=\"1\" class=\"dataframe\">\n",
       "  <thead>\n",
       "    <tr style=\"text-align: right;\">\n",
       "      <th></th>\n",
       "      <th>fusion_name</th>\n",
       "      <th>support_junction</th>\n",
       "      <th>support_spanning</th>\n",
       "      <th>splice_type</th>\n",
       "      <th>left_gene</th>\n",
       "      <th>left_breakpoint</th>\n",
       "      <th>right_gene</th>\n",
       "      <th>right_breakpoint</th>\n",
       "      <th>junction_reads</th>\n",
       "      <th>spanning_reads</th>\n",
       "      <th>sample</th>\n",
       "    </tr>\n",
       "  </thead>\n",
       "  <tbody>\n",
       "    <tr>\n",
       "      <th>0</th>\n",
       "      <td>Mpp2--Erich2</td>\n",
       "      <td>5.0</td>\n",
       "      <td>0.0</td>\n",
       "      <td>INCL_NON_REF_SPLICE</td>\n",
       "      <td>Mpp2^ENSMUSG00000017314</td>\n",
       "      <td>11:102057731:-</td>\n",
       "      <td>Erich2^ENSMUSG00000075302</td>\n",
       "      <td>2:70509335:+</td>\n",
       "      <td>HWI-ST383:195:D1G4DACXX:5:1209:6622:22285,HWI-...</td>\n",
       "      <td>.</td>\n",
       "      <td>2049_10_11KOU049-R3</td>\n",
       "    </tr>\n",
       "    <tr>\n",
       "      <th>1</th>\n",
       "      <td>Cox6b1--En2</td>\n",
       "      <td>4.0</td>\n",
       "      <td>0.0</td>\n",
       "      <td>ONLY_REF_SPLICE</td>\n",
       "      <td>Cox6b1^ENSMUSG00000036751</td>\n",
       "      <td>7:30624500:-</td>\n",
       "      <td>En2^ENSMUSG00000039095</td>\n",
       "      <td>5:28170119:+</td>\n",
       "      <td>HWI-ST383:195:D1G4DACXX:5:2104:11668:75600,HWI...</td>\n",
       "      <td>.</td>\n",
       "      <td>2049_10_11KOU049-R3</td>\n",
       "    </tr>\n",
       "    <tr>\n",
       "      <th>2</th>\n",
       "      <td>Plekhh2--Rps12-ps17</td>\n",
       "      <td>4.0</td>\n",
       "      <td>0.0</td>\n",
       "      <td>INCL_NON_REF_SPLICE</td>\n",
       "      <td>Plekhh2^ENSMUSG00000040852</td>\n",
       "      <td>17:84566150:+</td>\n",
       "      <td>Rps12-ps17^ENSMUSG00000095137</td>\n",
       "      <td>X:125548022:-</td>\n",
       "      <td>HWI-ST383:195:D1G4DACXX:5:1106:2334:92199,HWI-...</td>\n",
       "      <td>.</td>\n",
       "      <td>2049_10_11KOU049-R3</td>\n",
       "    </tr>\n",
       "    <tr>\n",
       "      <th>3</th>\n",
       "      <td>Igkv15-103--Igkj2</td>\n",
       "      <td>4.0</td>\n",
       "      <td>0.0</td>\n",
       "      <td>INCL_NON_REF_SPLICE</td>\n",
       "      <td>Igkv15-103^ENSMUSG00000076523</td>\n",
       "      <td>6:68437922:+</td>\n",
       "      <td>Igkj2^ENSMUSG00000076605</td>\n",
       "      <td>6:70722917:+</td>\n",
       "      <td>HWI-ST383:195:D1G4DACXX:5:2316:17423:72219,HWI...</td>\n",
       "      <td>.</td>\n",
       "      <td>2049_10_11KOU049-R3</td>\n",
       "    </tr>\n",
       "    <tr>\n",
       "      <th>4</th>\n",
       "      <td>Ryr3--Sox10</td>\n",
       "      <td>4.0</td>\n",
       "      <td>0.0</td>\n",
       "      <td>INCL_NON_REF_SPLICE</td>\n",
       "      <td>Ryr3^ENSMUSG00000057378</td>\n",
       "      <td>2:112847531:-</td>\n",
       "      <td>Sox10^ENSMUSG00000033006</td>\n",
       "      <td>15:79155313:-</td>\n",
       "      <td>HWI-ST383:195:D1G4DACXX:5:1214:20135:18862,HWI...</td>\n",
       "      <td>.</td>\n",
       "      <td>2049_10_11KOU049-R3</td>\n",
       "    </tr>\n",
       "  </tbody>\n",
       "</table>\n",
       "</div>"
      ],
      "text/plain": [
       "           fusion_name  support_junction  support_spanning  \\\n",
       "0         Mpp2--Erich2               5.0               0.0   \n",
       "1          Cox6b1--En2               4.0               0.0   \n",
       "2  Plekhh2--Rps12-ps17               4.0               0.0   \n",
       "3    Igkv15-103--Igkj2               4.0               0.0   \n",
       "4          Ryr3--Sox10               4.0               0.0   \n",
       "\n",
       "           splice_type                      left_gene left_breakpoint  \\\n",
       "0  INCL_NON_REF_SPLICE        Mpp2^ENSMUSG00000017314  11:102057731:-   \n",
       "1      ONLY_REF_SPLICE      Cox6b1^ENSMUSG00000036751    7:30624500:-   \n",
       "2  INCL_NON_REF_SPLICE     Plekhh2^ENSMUSG00000040852   17:84566150:+   \n",
       "3  INCL_NON_REF_SPLICE  Igkv15-103^ENSMUSG00000076523    6:68437922:+   \n",
       "4  INCL_NON_REF_SPLICE        Ryr3^ENSMUSG00000057378   2:112847531:-   \n",
       "\n",
       "                      right_gene right_breakpoint  \\\n",
       "0      Erich2^ENSMUSG00000075302     2:70509335:+   \n",
       "1         En2^ENSMUSG00000039095     5:28170119:+   \n",
       "2  Rps12-ps17^ENSMUSG00000095137    X:125548022:-   \n",
       "3       Igkj2^ENSMUSG00000076605     6:70722917:+   \n",
       "4       Sox10^ENSMUSG00000033006    15:79155313:-   \n",
       "\n",
       "                                      junction_reads spanning_reads  \\\n",
       "0  HWI-ST383:195:D1G4DACXX:5:1209:6622:22285,HWI-...              .   \n",
       "1  HWI-ST383:195:D1G4DACXX:5:2104:11668:75600,HWI...              .   \n",
       "2  HWI-ST383:195:D1G4DACXX:5:1106:2334:92199,HWI-...              .   \n",
       "3  HWI-ST383:195:D1G4DACXX:5:2316:17423:72219,HWI...              .   \n",
       "4  HWI-ST383:195:D1G4DACXX:5:1214:20135:18862,HWI...              .   \n",
       "\n",
       "                sample  \n",
       "0  2049_10_11KOU049-R3  \n",
       "1  2049_10_11KOU049-R3  \n",
       "2  2049_10_11KOU049-R3  \n",
       "3  2049_10_11KOU049-R3  \n",
       "4  2049_10_11KOU049-R3  "
      ]
     },
     "execution_count": 16,
     "metadata": {},
     "output_type": "execute_result"
    }
   ],
   "source": [
    "from pathlib import Path\n",
    "\n",
    "def read_fusions(file_path):\n",
    "    \"\"\"Reads fusions from STAR-Fusion final candidate file.\"\"\"\n",
    "    \n",
    "    col_names = ['fusion_name', 'support_junction', \n",
    "                 'support_spanning', 'splice_type',\n",
    "                 'left_gene', 'left_breakpoint', 'right_gene', \n",
    "                 'right_breakpoint', 'junction_reads',\n",
    "                 'spanning_reads', 'extra']\n",
    "    \n",
    "    return (pd.read_csv(str(file_path), sep='\\t', header=None,\n",
    "                        skiprows=1, index_col=None, names=col_names)\n",
    "              .drop('extra', axis=1))\n",
    "\n",
    "# Read fusions for samples.\n",
    "base_dir = Path('../data/interim/sb/star-fusion/fusions')\n",
    "fusion_paths = list(base_dir.glob('**/star-fusion.fusion_candidates.final'))\n",
    "\n",
    "fusions = {fusion_path.parent.name: read_fusions(fusion_path)\n",
    "           for fusion_path in fusion_paths}\n",
    "\n",
    "# Merge into single frame.\n",
    "merged = pd.concat((df.assign(sample=sample) \n",
    "                    for sample, df in fusions.items()),\n",
    "                   axis=0, ignore_index=True)\n",
    "merged_ref = merged.query('splice_type == \"ONLY_REF_SPLICE\"')\n",
    "\n",
    "merged.head()"
   ]
  },
  {
   "cell_type": "code",
   "execution_count": 25,
   "metadata": {
    "collapsed": false
   },
   "outputs": [
    {
     "data": {
      "image/png": "[encoded data removed]",
      "text/plain": [
       "<matplotlib.figure.Figure at 0x7fcfa7421128>"
      ]
     },
     "metadata": {},
     "output_type": "display_data"
    }
   ],
   "source": [
    "fig, axes = plt.subplots(ncols=2, figsize=(14, 5))\n",
    "merged.groupby('sample').size().hist(ax=axes[0])\n",
    "axes[0].set_title('All fusions')\n",
    "axes[0].set_xlabel('Number of fusions')\n",
    "axes[0].set_ylabel('Count')\n",
    "\n",
    "merged_ref.groupby('sample').size().hist(ax=axes[1])\n",
    "axes[1].set_title('Ref. splice fusions');\n",
    "axes[1].set_xlabel('Number of fusions')\n",
    "axes[1].set_ylabel('Count');"
   ]
  },
  {
   "cell_type": "code",
   "execution_count": 55,
   "metadata": {
    "collapsed": false
   },
   "outputs": [
    {
     "data": {
      "text/plain": [
       "fusion_name\n",
       "Trps1--En2              21\n",
       "Fgfr2--En2              15\n",
       "Ppp1r12a--En2           15\n",
       "Foxf2--Trp53bp2         14\n",
       "Myh9--En2               11\n",
       "Foxf2--Fgfr2            10\n",
       "Foxf2--Eras              6\n",
       "Foxf2--Rasgrf1           5\n",
       "Foxf2--Gab1              5\n",
       "Ppp1r12b--En2            4\n",
       "Runx1--En2               4\n",
       "Tgfbr2--En2              4\n",
       "Cblb--En2                4\n",
       "4930448N21Rik--Stox2     3\n",
       "Foxf2--Gmds              3\n",
       "Suco--En2                2\n",
       "Foxf2--Plce1             2\n",
       "Foxf2--Erg               2\n",
       "Trp53bp2--En2            2\n",
       "Foxf2--Ddx10             1\n",
       "Name: sample, dtype: int64"
      ]
     },
     "execution_count": 55,
     "metadata": {},
     "output_type": "execute_result"
    }
   ],
   "source": [
    "(merged_ref.groupby('fusion_name')['sample'].nunique()\n",
    "           .sort_values(ascending=False).head(n=20))"
   ]
  },
  {
   "cell_type": "code",
   "execution_count": 56,
   "metadata": {
    "collapsed": false
   },
   "outputs": [
    {
     "data": {
      "text/plain": [
       "fusion_name\n",
       "4930448N21Rik--Stox2    3\n",
       "Atxn7l1os1--Fam173b     1\n",
       "Cnksr3--Cand1           1\n",
       "Cnst--Smyd3             1\n",
       "Cpq--Sdc2               1\n",
       "Fgfr2--Kif16b           1\n",
       "Fgfr2--Myh9             1\n",
       "Fgfr2--Tbc1d1           1\n",
       "Frs2--Arhgef25          1\n",
       "Frs2--Dtx3              1\n",
       "Frs2--Rap1b             1\n",
       "Gm13830--Gnas           1\n",
       "Gsr--Znrf1              1\n",
       "Igkv1-110--Igkj1        1\n",
       "Igkv1-110--Igkj4        1\n",
       "Igkv1-110--Igkj5        1\n",
       "Igkv1-135--Igkc         1\n",
       "Il1rap--Eci2            1\n",
       "Nfyc--Raly              1\n",
       "Trp53bp2--Dst           1\n",
       "Zfp1--Znrf1             1\n",
       "Name: sample, dtype: int64"
      ]
     },
     "execution_count": 56,
     "metadata": {},
     "output_type": "execute_result"
    }
   ],
   "source": [
    "def filter_transposon(fusions):\n",
    "    mask = fusions['fusion_name'].str.contains('En2|Foxf2')\n",
    "    return fusions.loc[~mask]\n",
    "\n",
    "(merged_ref.pipe(filter_transposon)\n",
    "           .groupby('fusion_name')['sample'].nunique())"
   ]
  },
  {
   "cell_type": "code",
   "execution_count": 62,
   "metadata": {
    "collapsed": false
   },
   "outputs": [],
   "source": [
    "(merged_ref.pipe(filter_transposon)\n",
    "           .sort_values('fusion_name')\n",
    "           .to_excel('../reports/star_fusion.sb.xlsx', index=False))"
   ]
  }
 ],
 "metadata": {
  "kernelspec": {
   "display_name": "Python 3",
   "language": "python",
   "name": "python3"
  },
  "language_info": {
   "codemirror_mode": {
    "name": "ipython",
    "version": 3
   },
   "file_extension": ".py",
   "mimetype": "text/x-python",
   "name": "python",
   "nbconvert_exporter": "python",
   "pygments_lexer": "ipython3",
   "version": "3.5.2"
  }
 },
 "nbformat": 4,
 "nbformat_minor": 2
}
