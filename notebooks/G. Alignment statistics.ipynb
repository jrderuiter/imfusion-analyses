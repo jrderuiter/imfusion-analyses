{
 "cells": [
  {
   "cell_type": "code",
   "execution_count": 1,
   "metadata": {
    "collapsed": true
   },
   "outputs": [],
   "source": [
    "%reload_ext autoreload\n",
    "%autoreload 2\n",
    "\n",
    "%matplotlib inline\n",
    "\n",
    "import sys\n",
    "sys.path.append('../src')\n",
    "\n",
    "import pandas as pd"
   ]
  },
  {
   "cell_type": "markdown",
   "metadata": {},
   "source": [
    "# SB dataset"
   ]
  },
  {
   "cell_type": "code",
   "execution_count": 15,
   "metadata": {
    "collapsed": false
   },
   "outputs": [
    {
     "data": {
      "text/html": [
       "<div>\n",
       "<table border=\"1\" class=\"dataframe\">\n",
       "  <thead>\n",
       "    <tr style=\"text-align: right;\">\n",
       "      <th></th>\n",
       "      <th>sample</th>\n",
       "      <th>total_reads</th>\n",
       "      <th>fusion_reads</th>\n",
       "      <th>transposon_fusion_reads</th>\n",
       "      <th>ratio_reads_fusion</th>\n",
       "      <th>ratio_fusions_transposon</th>\n",
       "    </tr>\n",
       "  </thead>\n",
       "  <tbody>\n",
       "    <tr>\n",
       "      <th>0</th>\n",
       "      <td>1566_10_11KOU023</td>\n",
       "      <td>15852706</td>\n",
       "      <td>12309</td>\n",
       "      <td>71</td>\n",
       "      <td>0.000776</td>\n",
       "      <td>0.005768</td>\n",
       "    </tr>\n",
       "    <tr>\n",
       "      <th>1</th>\n",
       "      <td>1566_11_11KOU024</td>\n",
       "      <td>14286991</td>\n",
       "      <td>13624</td>\n",
       "      <td>17</td>\n",
       "      <td>0.000954</td>\n",
       "      <td>0.001248</td>\n",
       "    </tr>\n",
       "    <tr>\n",
       "      <th>2</th>\n",
       "      <td>1566_12_11KOU028-L4</td>\n",
       "      <td>16686790</td>\n",
       "      <td>17971</td>\n",
       "      <td>43</td>\n",
       "      <td>0.001077</td>\n",
       "      <td>0.002393</td>\n",
       "    </tr>\n",
       "    <tr>\n",
       "      <th>3</th>\n",
       "      <td>1566_13_11KOU028-L5</td>\n",
       "      <td>17382889</td>\n",
       "      <td>17229</td>\n",
       "      <td>19</td>\n",
       "      <td>0.000991</td>\n",
       "      <td>0.001103</td>\n",
       "    </tr>\n",
       "    <tr>\n",
       "      <th>4</th>\n",
       "      <td>1566_14_11KOU029-R1</td>\n",
       "      <td>17553874</td>\n",
       "      <td>18934</td>\n",
       "      <td>57</td>\n",
       "      <td>0.001079</td>\n",
       "      <td>0.003010</td>\n",
       "    </tr>\n",
       "  </tbody>\n",
       "</table>\n",
       "</div>"
      ],
      "text/plain": [
       "                sample  total_reads  fusion_reads  transposon_fusion_reads  \\\n",
       "0     1566_10_11KOU023     15852706         12309                       71   \n",
       "1     1566_11_11KOU024     14286991         13624                       17   \n",
       "2  1566_12_11KOU028-L4     16686790         17971                       43   \n",
       "3  1566_13_11KOU028-L5     17382889         17229                       19   \n",
       "4  1566_14_11KOU029-R1     17553874         18934                       57   \n",
       "\n",
       "   ratio_reads_fusion  ratio_fusions_transposon  \n",
       "0            0.000776                  0.005768  \n",
       "1            0.000954                  0.001248  \n",
       "2            0.001077                  0.002393  \n",
       "3            0.000991                  0.001103  \n",
       "4            0.001079                  0.003010  "
      ]
     },
     "execution_count": 15,
     "metadata": {},
     "output_type": "execute_result"
    }
   ],
   "source": [
    "from concurrent.futures import ProcessPoolExecutor\n",
    "from pathlib import Path\n",
    "\n",
    "from imfusion.insertions.aligners.star import read_chimeric_junctions\n",
    "from nbsupport.util import flagstat\n",
    "\n",
    "\n",
    "def read_stats(base_path, transposon_name, n_cores=1, paired=False):\n",
    "    # Calculate total depth using flagstat.\n",
    "    bam_paths = list(Path(base_path).glob('**/alignment.bam'))\n",
    "\n",
    "    with ProcessPoolExecutor(max_workers=n_cores) as executor:\n",
    "        results = executor.map(flagstat, bam_paths)\n",
    "        flagstats = pd.DataFrame(\n",
    "            dict(zip((fp.parent.name for fp in bam_paths), \n",
    "                     (res['count'] for res in results)))).T\n",
    "\n",
    "    if paired:\n",
    "        total = flagstats['both_mapped'] // 2\n",
    "    else:\n",
    "        total = flagstats['mapped'] - flagstats['secondary']\n",
    "\n",
    "    total_reads = (\n",
    "        total.to_frame('total_reads')\n",
    "        .reset_index().rename(columns={'index': 'sample'}))\n",
    "    \n",
    "    # Calculate fusion statistics.\n",
    "    fusion_paths = list(Path(base_path).glob('**/fusions.out'))\n",
    "\n",
    "    fusion_stats = pd.DataFrame.from_records(\n",
    "        ((fp.parent.name,) + star_fusion_stats(fp, 'T2onc') \n",
    "        for fp in fusion_paths),\n",
    "        columns=['sample', 'fusion_reads', 'transposon_fusion_reads'])\n",
    "\n",
    "    # Merge statistics per sample.\n",
    "    merged = pd.merge(total_reads, fusion_stats, on='sample', how='left')\n",
    "    \n",
    "    # Add ratios.\n",
    "    merged['ratio_reads_fusion'] = merged['fusion_reads'] / merged['total_reads']\n",
    "    merged['ratio_fusions_transposon'] = (\n",
    "        merged['transposon_fusion_reads'] / merged['fusion_reads'])\n",
    "    \n",
    "    return merged\n",
    "\n",
    "\n",
    "def star_fusion_stats(file_path, transposon_name):\n",
    "    junctions = read_chimeric_junctions(file_path)\n",
    "    \n",
    "    total_reads = junctions.shape[0]\n",
    "    transposon_reads = junctions.loc[(junctions['seqname_a'] == transposon_name) ^ \n",
    "                                     (junctions['seqname_b'] == transposon_name)].shape[0]\n",
    "    \n",
    "    return (total_reads, transposon_reads)\n",
    "\n",
    "\n",
    "sb_stats = read_stats('../data/interim/sb/star',\n",
    "                      transposon_name='T2onc', \n",
    "                      n_cores=20,\n",
    "                      paired=False)\n",
    "sb_stats.head()"
   ]
  },
  {
   "cell_type": "code",
   "execution_count": 27,
   "metadata": {
    "collapsed": false
   },
   "outputs": [
    {
     "data": {
      "text/plain": [
       "total_reads                 1.441677e+09\n",
       "fusion_reads                1.444231e+06\n",
       "transposon_fusion_reads     6.230894e+03\n",
       "ratio_reads_fusion          9.932456e-02\n",
       "ratio_fusions_transposon    4.218596e-01\n",
       "dtype: float64"
      ]
     },
     "execution_count": 27,
     "metadata": {},
     "output_type": "execute_result"
    }
   ],
   "source": [
    "sb_stats.mean() * 100"
   ]
  },
  {
   "cell_type": "code",
   "execution_count": 24,
   "metadata": {
    "collapsed": false
   },
   "outputs": [],
   "source": [
    "(sb_stats\n",
    " .rename(columns={\n",
    "     'sample': 'Sample',\n",
    "     'total_reads': 'Total reads',\n",
    "     'fusion_reads': 'Fusion reads',\n",
    "     'transposon_fusion_reads': 'Transposon fusion reads',\n",
    "     'ratio_reads_fusion': 'Ratio fusion reads',\n",
    "     'ratio_fusions_transposon': 'Ratio transposon fusions'\n",
    " })\n",
    ".to_excel('../reports/supplemental/tables/table_s1_alignment_stats_sb.xlsx', index=False))"
   ]
  },
  {
   "cell_type": "markdown",
   "metadata": {},
   "source": [
    "# Sanger dataset"
   ]
  },
  {
   "cell_type": "code",
   "execution_count": 16,
   "metadata": {
    "collapsed": false
   },
   "outputs": [
    {
     "data": {
      "text/html": [
       "<div>\n",
       "<table border=\"1\" class=\"dataframe\">\n",
       "  <thead>\n",
       "    <tr style=\"text-align: right;\">\n",
       "      <th></th>\n",
       "      <th>sample</th>\n",
       "      <th>total_reads</th>\n",
       "      <th>fusion_reads</th>\n",
       "      <th>transposon_fusion_reads</th>\n",
       "      <th>ratio_reads_fusion</th>\n",
       "      <th>ratio_fusions_transposon</th>\n",
       "    </tr>\n",
       "  </thead>\n",
       "  <tbody>\n",
       "    <tr>\n",
       "      <th>0</th>\n",
       "      <td>TAPJ102_5c</td>\n",
       "      <td>82915344</td>\n",
       "      <td>597237</td>\n",
       "      <td>1533</td>\n",
       "      <td>0.007203</td>\n",
       "      <td>0.002567</td>\n",
       "    </tr>\n",
       "    <tr>\n",
       "      <th>1</th>\n",
       "      <td>TAPJ23_1a</td>\n",
       "      <td>89616265</td>\n",
       "      <td>520810</td>\n",
       "      <td>15</td>\n",
       "      <td>0.005812</td>\n",
       "      <td>0.000029</td>\n",
       "    </tr>\n",
       "    <tr>\n",
       "      <th>2</th>\n",
       "      <td>TAPJ23_1e</td>\n",
       "      <td>66460392</td>\n",
       "      <td>692985</td>\n",
       "      <td>1426</td>\n",
       "      <td>0.010427</td>\n",
       "      <td>0.002058</td>\n",
       "    </tr>\n",
       "    <tr>\n",
       "      <th>3</th>\n",
       "      <td>TAPJ23_2b</td>\n",
       "      <td>72623367</td>\n",
       "      <td>614396</td>\n",
       "      <td>3393</td>\n",
       "      <td>0.008460</td>\n",
       "      <td>0.005522</td>\n",
       "    </tr>\n",
       "    <tr>\n",
       "      <th>4</th>\n",
       "      <td>TAPJ47_4a</td>\n",
       "      <td>73234091</td>\n",
       "      <td>530312</td>\n",
       "      <td>983</td>\n",
       "      <td>0.007241</td>\n",
       "      <td>0.001854</td>\n",
       "    </tr>\n",
       "  </tbody>\n",
       "</table>\n",
       "</div>"
      ],
      "text/plain": [
       "       sample  total_reads  fusion_reads  transposon_fusion_reads  \\\n",
       "0  TAPJ102_5c     82915344        597237                     1533   \n",
       "1   TAPJ23_1a     89616265        520810                       15   \n",
       "2   TAPJ23_1e     66460392        692985                     1426   \n",
       "3   TAPJ23_2b     72623367        614396                     3393   \n",
       "4   TAPJ47_4a     73234091        530312                      983   \n",
       "\n",
       "   ratio_reads_fusion  ratio_fusions_transposon  \n",
       "0            0.007203                  0.002567  \n",
       "1            0.005812                  0.000029  \n",
       "2            0.010427                  0.002058  \n",
       "3            0.008460                  0.005522  \n",
       "4            0.007241                  0.001854  "
      ]
     },
     "execution_count": 16,
     "metadata": {},
     "output_type": "execute_result"
    }
   ],
   "source": [
    "sanger_stats = read_stats('../data/interim/sanger/star',\n",
    "                          transposon_name='T2onc', \n",
    "                          n_cores=20,\n",
    "                          paired=True)\n",
    "sanger_stats.head()"
   ]
  },
  {
   "cell_type": "code",
   "execution_count": 25,
   "metadata": {
    "collapsed": true
   },
   "outputs": [],
   "source": [
    "(sanger_stats\n",
    " .rename(columns={\n",
    "     'sample': 'Sample',\n",
    "     'total_reads': 'Total pairs',\n",
    "     'fusion_reads': 'Fusion pairs',\n",
    "     'transposon_fusion_reads': 'Transposon fusion pairs',\n",
    "     'ratio_reads_fusion': 'Ratio fusion pairs',\n",
    "     'ratio_fusions_transposon': 'Ratio transposon fusions'\n",
    " })\n",
    ".to_excel('../reports/supplemental/tables/table_sx_alignment_stats_sanger.xlsx', index=False))"
   ]
  },
  {
   "cell_type": "code",
   "execution_count": 29,
   "metadata": {
    "collapsed": false
   },
   "outputs": [
    {
     "data": {
      "text/plain": [
       "total_reads                 7.688363e+09\n",
       "fusion_reads                5.467412e+07\n",
       "transposon_fusion_reads     2.317300e+05\n",
       "ratio_reads_fusion          7.185204e-01\n",
       "ratio_fusions_transposon    4.452995e-01\n",
       "dtype: float64"
      ]
     },
     "execution_count": 29,
     "metadata": {},
     "output_type": "execute_result"
    }
   ],
   "source": [
    "sanger_stats.mean() * 100"
   ]
  },
  {
   "cell_type": "code",
   "execution_count": null,
   "metadata": {
    "collapsed": true
   },
   "outputs": [],
   "source": []
  }
 ],
 "metadata": {
  "kernelspec": {
   "display_name": "Python 3",
   "language": "python",
   "name": "python3"
  },
  "language_info": {
   "codemirror_mode": {
    "name": "ipython",
    "version": 3
   },
   "file_extension": ".py",
   "mimetype": "text/x-python",
   "name": "python",
   "nbconvert_exporter": "python",
   "pygments_lexer": "ipython3",
   "version": "3.5.2"
  }
 },
 "nbformat": 4,
 "nbformat_minor": 2
}
