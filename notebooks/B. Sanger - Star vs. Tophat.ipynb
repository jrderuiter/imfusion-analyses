{
 "cells": [
  {
   "cell_type": "code",
   "execution_count": 1,
   "metadata": {
    "collapsed": true
   },
   "outputs": [],
   "source": [
    "%reload_ext autoreload\n",
    "%autoreload 2\n",
    "\n",
    "%matplotlib inline\n",
    "\n",
    "import sys\n",
    "sys.path.append('../src')\n",
    "\n",
    "import numpy as np\n",
    "import pandas as pd\n",
    "import seaborn as sns\n",
    "\n",
    "from matplotlib import pyplot as plt\n",
    "\n",
    "sns.set_style('white')"
   ]
  },
  {
   "cell_type": "code",
   "execution_count": 3,
   "metadata": {
    "collapsed": false
   },
   "outputs": [
    {
     "data": {
      "image/png": "[encoded data removed]",
      "text/plain": [
       "<matplotlib.figure.Figure at 0x7f873d4af278>"
      ]
     },
     "metadata": {},
     "output_type": "display_data"
    }
   ],
   "source": [
    "from nbsupport import rank\n",
    "\n",
    "# Read STAR results.\n",
    "ctgs_star = (pd.read_csv('../data/processed/sanger/star/ctgs.txt', sep='\\t')\n",
    "               .query('de_pvalue < 0.05')\n",
    "               .sort_values(by='n_samples', ascending=False))\n",
    "\n",
    "# Read Tophat results.\n",
    "ctgs_th = (pd.read_csv('../data/processed/sanger/tophat/ctgs.txt', sep='\\t')\n",
    "             .query('de_pvalue < 0.05')\n",
    "             .sort_values(by='n_samples', ascending=False))\n",
    "\n",
    "\n",
    "# Compare DE CTG ranks.\n",
    "ranks = rank.compare_ranks(ctgs_th, ctgs_star, suffixes=('_tophat', '_star'))\n",
    "\n",
    "# Plot ranks.\n",
    "fig, ax = plt.subplots(figsize=(4, 3))\n",
    "rank.plot_ranks(ranks, rank_a='rank_tophat', \n",
    "                rank_b='rank_star', label='gene_name', ax=ax)\n",
    "ax.set_xticklabels(['Tophat DE-CTGs', 'STAR DE-CTGs']);\n",
    "\n",
    "fig.savefig('../reports/figures/fig_sx_star_vs_tophat.pdf', bbox_inches='tight')"
   ]
  },
  {
   "cell_type": "code",
   "execution_count": 3,
   "metadata": {
    "collapsed": false
   },
   "outputs": [
    {
     "data": {
      "text/html": [
       "<div>\n",
       "<table border=\"1\" class=\"dataframe\">\n",
       "  <thead>\n",
       "    <tr style=\"text-align: right;\">\n",
       "      <th></th>\n",
       "      <th>gene_name</th>\n",
       "      <th>n_samples_tophat</th>\n",
       "      <th>n_samples_star</th>\n",
       "    </tr>\n",
       "  </thead>\n",
       "  <tbody>\n",
       "    <tr>\n",
       "      <th>0</th>\n",
       "      <td>Jak1</td>\n",
       "      <td>9</td>\n",
       "      <td>9</td>\n",
       "    </tr>\n",
       "    <tr>\n",
       "      <th>1</th>\n",
       "      <td>Stat5b</td>\n",
       "      <td>8</td>\n",
       "      <td>7</td>\n",
       "    </tr>\n",
       "    <tr>\n",
       "      <th>2</th>\n",
       "      <td>Cblb</td>\n",
       "      <td>5</td>\n",
       "      <td>5</td>\n",
       "    </tr>\n",
       "    <tr>\n",
       "      <th>3</th>\n",
       "      <td>Dlx3</td>\n",
       "      <td>2</td>\n",
       "      <td>2</td>\n",
       "    </tr>\n",
       "    <tr>\n",
       "      <th>4</th>\n",
       "      <td>Bmi1</td>\n",
       "      <td>2</td>\n",
       "      <td>2</td>\n",
       "    </tr>\n",
       "    <tr>\n",
       "      <th>5</th>\n",
       "      <td>Zfp423</td>\n",
       "      <td>2</td>\n",
       "      <td>2</td>\n",
       "    </tr>\n",
       "  </tbody>\n",
       "</table>\n",
       "</div>"
      ],
      "text/plain": [
       "  gene_name  n_samples_tophat  n_samples_star\n",
       "0      Jak1                 9               9\n",
       "1    Stat5b                 8               7\n",
       "2      Cblb                 5               5\n",
       "3      Dlx3                 2               2\n",
       "4      Bmi1                 2               2\n",
       "5    Zfp423                 2               2"
      ]
     },
     "execution_count": 3,
     "metadata": {},
     "output_type": "execute_result"
    }
   ],
   "source": [
    "# Check number of samples per gene.\n",
    "pd.merge(ctgs_th[['gene_name', 'n_samples']],\n",
    "         ctgs_star[['gene_name', 'n_samples']],\n",
    "         on='gene_name', suffixes=['_tophat', '_star'])"
   ]
  }
 ],
 "metadata": {
  "kernelspec": {
   "display_name": "Python 3",
   "language": "python",
   "name": "python3"
  },
  "language_info": {
   "codemirror_mode": {
    "name": "ipython",
    "version": 3
   },
   "file_extension": ".py",
   "mimetype": "text/x-python",
   "name": "python",
   "nbconvert_exporter": "python",
   "pygments_lexer": "ipython3",
   "version": "3.5.2"
  }
 },
 "nbformat": 4,
 "nbformat_minor": 2
}
